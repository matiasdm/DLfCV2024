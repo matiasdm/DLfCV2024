{
  "cells": [
    {
      "cell_type": "markdown",
      "metadata": {},
      "source": [
        "# Introduction to Deep Learning. \n",
        "\n",
        "We move from classic classifiers to deep learning based architectures. In this practical session we will cover:\n",
        "- How to implement a simple neural network using PyTorch.\n",
        "- How to train a neural network and check different optimization strategies.\n",
        "- Review the concept of overfitting and how to avoid it using regularization techniques.\n"
      ]
    },
    {
      "cell_type": "code",
      "execution_count": 2,
      "metadata": {},
      "outputs": [
        {
          "name": "stdout",
          "output_type": "stream",
          "text": [
            "We loaded 50000 training, 10000 validation, and 10000 testing samples\n"
          ]
        }
      ],
      "source": [
        "# Let's start by importing torch (you might need to pip install if you haven't already)\n",
        "import torch \n",
        "from torchvision import transforms, datasets\n",
        "from torch.utils.data import DataLoader\n",
        "\n",
        "# Get the MNIST dataset\n",
        "# Set up the data preprocessing and loading:\n",
        "transform = transforms.Compose([\n",
        "    transforms.ToTensor(),\n",
        "    transforms.Normalize((0.5,), (0.5,))\n",
        "])  # transform the data to torch tensor and normalize\n",
        "train_dataset = datasets.MNIST(root='./data', train=True, download=True, transform=transform)\n",
        "test_dataset = datasets.MNIST(root='./data', train=False, download=True, transform=transform)\n",
        "\n",
        "# Now let's split the training set into a training and validation set\n",
        "generator = torch.Generator().manual_seed(42)  # just a random generator\n",
        "train_dataset, val_dataset = torch.utils.data.random_split(train_dataset, [50000, 10000], generator=generator)\n",
        "\n",
        "print('We loaded {} training, {} validation, and {} testing samples'.format(len(train_dataset), len(val_dataset), len(test_dataset)))\n",
        "\n",
        "# Set up the data loaders (they are iterable objects that return the data in batches)\n",
        "train_loader = DataLoader(train_dataset, batch_size=64, shuffle=True)\n",
        "val_loader = DataLoader(val_dataset, batch_size=64, shuffle=False)\n",
        "test_loader = DataLoader(test_dataset, batch_size=64, shuffle=False)"
      ]
    },
    {
      "cell_type": "code",
      "execution_count": 4,
      "metadata": {},
      "outputs": [
        {
          "data": {
            "image/png": "[encoded data removed]",
            "text/plain": [
              "<Figure size 640x480 with 6 Axes>"
            ]
          },
          "metadata": {},
          "output_type": "display_data"
        }
      ],
      "source": [
        "# Visualize some of the data \n",
        "# --------------------------------------------------------------\n",
        "# Excercise 1: Visualize the first 6 images and their labels from the test set\n",
        "# --------------------------------------------------------------\n",
        "#TODO\n",
        "# ---------------------------------------------------------------"
      ]
    },
    {
      "cell_type": "markdown",
      "metadata": {},
      "source": [
        "### Excersice 2: what is the size of the input images? If we want to use a fully connected layer, what is the size of the input of the fully connected layer?"
      ]
    },
    {
      "cell_type": "code",
      "execution_count": 5,
      "metadata": {},
      "outputs": [
        {
          "name": "stdout",
          "output_type": "stream",
          "text": [
            "Net(\n",
            "  (fc1): Linear(in_features=784, out_features=128, bias=True)\n",
            "  (fc2): Linear(in_features=128, out_features=64, bias=True)\n",
            "  (fc3): Linear(in_features=64, out_features=10, bias=True)\n",
            "  (relu): ReLU()\n",
            "  (logsoftmax): LogSoftmax(dim=1)\n",
            ")\n"
          ]
        }
      ],
      "source": [
        "# Let's define the neural network architecture to learn how to classify the images\n",
        "import torch.nn as nn\n",
        "\n",
        "# Define the model \n",
        "class Net(nn.Module):\n",
        "    def __init__(self):\n",
        "        super(Net, self).__init__()\n",
        "        self.fc1 = nn.Linear(28*28, 128)\n",
        "        self.fc2 = nn.Linear(128, 64)\n",
        "        self.fc3 = nn.Linear(64, 10)\n",
        "        self.relu = nn.ReLU()\n",
        "        self.logsoftmax = nn.LogSoftmax(dim=1)\n",
        "        \n",
        "    def forward(self, x):\n",
        "        x = x.view(-1, 28*28)\n",
        "        x = self.relu(self.fc1(x))\n",
        "        x = self.relu(self.fc2(x))\n",
        "        x = self.fc3(x)\n",
        "        return self.logsoftmax(x)\n",
        "\n",
        "print(Net())"
      ]
    },
    {
      "cell_type": "markdown",
      "metadata": {},
      "source": [
        "### Excersice 3: Draw a schematic representation of the model, how many trainable parameters does it have?"
      ]
    },
    {
      "cell_type": "code",
      "execution_count": 6,
      "metadata": {},
      "outputs": [],
      "source": [
        "# Let's visualize the model graph with tensorboard\n",
        "from torch.utils.tensorboard import SummaryWriter\n",
        "\n",
        "writer = SummaryWriter(\"torchlogs/\")\n",
        "model = Net()\n",
        "batch_idx, (images, labels) = next(examples)\n",
        "writer.add_graph(model, images)\n",
        "writer.close()"
      ]
    },
    {
      "cell_type": "markdown",
      "metadata": {},
      "source": [
        "## Now let's train the model"
      ]
    },
    {
      "cell_type": "code",
      "execution_count": 7,
      "metadata": {},
      "outputs": [
        {
          "name": "stdout",
          "output_type": "stream",
          "text": [
            "Train Epoch: 1 [0/50000 (0%)]\tLoss: 2.298582\n",
            "Train Epoch: 1 [6400/50000 (13%)]\tLoss: 2.077154\n",
            "Train Epoch: 1 [12800/50000 (26%)]\tLoss: 1.714908\n",
            "Train Epoch: 1 [19200/50000 (38%)]\tLoss: 1.281494\n",
            "Train Epoch: 1 [25600/50000 (51%)]\tLoss: 0.638875\n",
            "Train Epoch: 1 [32000/50000 (64%)]\tLoss: 0.770361\n",
            "Train Epoch: 1 [38400/50000 (77%)]\tLoss: 0.667440\n",
            "Train Epoch: 1 [44800/50000 (90%)]\tLoss: 0.535242\n",
            "Train Epoch: 2 [0/50000 (0%)]\tLoss: 0.523662\n",
            "Train Epoch: 2 [6400/50000 (13%)]\tLoss: 0.447204\n",
            "Train Epoch: 2 [12800/50000 (26%)]\tLoss: 0.428013\n",
            "Train Epoch: 2 [19200/50000 (38%)]\tLoss: 0.396825\n",
            "Train Epoch: 2 [25600/50000 (51%)]\tLoss: 0.395202\n",
            "Train Epoch: 2 [32000/50000 (64%)]\tLoss: 0.404668\n",
            "Train Epoch: 2 [38400/50000 (77%)]\tLoss: 0.208781\n",
            "Train Epoch: 2 [44800/50000 (90%)]\tLoss: 0.309498\n",
            "Train Epoch: 3 [0/50000 (0%)]\tLoss: 0.406914\n",
            "Train Epoch: 3 [6400/50000 (13%)]\tLoss: 0.319719\n",
            "Train Epoch: 3 [12800/50000 (26%)]\tLoss: 0.325976\n",
            "Train Epoch: 3 [19200/50000 (38%)]\tLoss: 0.402554\n",
            "Train Epoch: 3 [25600/50000 (51%)]\tLoss: 0.374491\n",
            "Train Epoch: 3 [32000/50000 (64%)]\tLoss: 0.262554\n",
            "Train Epoch: 3 [38400/50000 (77%)]\tLoss: 0.234488\n",
            "Train Epoch: 3 [44800/50000 (90%)]\tLoss: 0.352436\n",
            "Train Epoch: 4 [0/50000 (0%)]\tLoss: 0.309471\n",
            "Train Epoch: 4 [6400/50000 (13%)]\tLoss: 0.298479\n",
            "Train Epoch: 4 [12800/50000 (26%)]\tLoss: 0.444830\n",
            "Train Epoch: 4 [19200/50000 (38%)]\tLoss: 0.340116\n",
            "Train Epoch: 4 [25600/50000 (51%)]\tLoss: 0.168590\n",
            "Train Epoch: 4 [32000/50000 (64%)]\tLoss: 0.378547\n",
            "Train Epoch: 4 [38400/50000 (77%)]\tLoss: 0.261132\n",
            "Train Epoch: 4 [44800/50000 (90%)]\tLoss: 0.242201\n",
            "Train Epoch: 5 [0/50000 (0%)]\tLoss: 0.510193\n",
            "Train Epoch: 5 [6400/50000 (13%)]\tLoss: 0.290604\n",
            "Train Epoch: 5 [12800/50000 (26%)]\tLoss: 0.411796\n",
            "Train Epoch: 5 [19200/50000 (38%)]\tLoss: 0.211007\n",
            "Train Epoch: 5 [25600/50000 (51%)]\tLoss: 0.570498\n",
            "Train Epoch: 5 [32000/50000 (64%)]\tLoss: 0.385725\n",
            "Train Epoch: 5 [38400/50000 (77%)]\tLoss: 0.143316\n",
            "Train Epoch: 5 [44800/50000 (90%)]\tLoss: 0.451585\n"
          ]
        }
      ],
      "source": [
        "# Now let's train the model\n",
        "import torch.optim as optim\n",
        "\n",
        "num_epochs = 5  # an epoch is a full pass through the dataset (each step is one batch, once we used all the batches we have completed an epoch)\n",
        "model = Net()  # init the netwokr\n",
        "criterion = nn.CrossEntropyLoss()  # define the loss function as the cross entropy loss\n",
        "optimizer = optim.SGD(model.parameters(), lr=0.01)  # define the optimizer (in this case stochastic gradient descent)\n",
        "\n",
        "for epoch in range(num_epochs):\n",
        "    model.train()  # set the model to training mode\n",
        "    for batch_idx, (images, labels) in enumerate(train_loader):  # Iteare over the batches\n",
        "        optimizer.zero_grad()  # zero the gradients (otherwise they accumulate)\n",
        "        output = model(images)  # forward pass (compute the output)\n",
        "        loss = criterion(output, labels)  # compute the loss    \n",
        "        loss.backward()  # backward pass (compute the gradients and do backpropagation)\n",
        "        optimizer.step()  # update the weights (do one step of optimization)\n",
        "\n",
        "        if batch_idx % 100 == 0:  # print some information every 100 batches\n",
        "            print('Train Epoch: {} [{}/{} ({:.0f}%)]\\tLoss: {:.6f}'.format(\n",
        "                epoch+1, batch_idx * len(images), len(train_loader.dataset),\n",
        "                100. * batch_idx / len(train_loader), loss.item()))"
      ]
    },
    {
      "cell_type": "markdown",
      "metadata": {},
      "source": [
        "###"
      ]
    },
    {
      "cell_type": "markdown",
      "metadata": {},
      "source": [
        "### Let's do the same but using tensorboard to visualize the training process."
      ]
    },
    {
      "cell_type": "code",
      "execution_count": 8,
      "metadata": {},
      "outputs": [],
      "source": [
        "# Let's repeat the training but using tensorboard to log the loss\n",
        "writer = SummaryWriter(\"torchlogs/experiment_ex3\")\n",
        "\n",
        "num_epochs = 5  # an epoch is a full pass through the dataset (each step is one batch, once we used all the batches we have completed an epoch)\n",
        "model = Net()  # init the netwokr\n",
        "criterion = nn.CrossEntropyLoss()  # define the loss function as the cross entropy loss\n",
        "optimizer = optim.SGD(model.parameters(), lr=0.01)  # define the optimizer (in this case stochastic gradient descent)\n",
        "\n",
        "for epoch in range(num_epochs):\n",
        "    model.train()  # set the model to training mode\n",
        "    for batch_idx, (images, labels) in enumerate(train_loader):\n",
        "        optimizer.zero_grad()  # zero the gradients\n",
        "        output = model(images)  # forward pass\n",
        "        loss = criterion(output, labels)  # compute the loss\n",
        "        loss.backward()  # backward pass\n",
        "        optimizer.step()  # update the weights\n",
        "\n",
        "        if batch_idx % 100 == 0:\n",
        "            writer.add_scalar('training loss', loss.item(), epoch*len(train_loader)+batch_idx)\n",
        "\n"
      ]
    },
    {
      "cell_type": "markdown",
      "metadata": {},
      "source": [
        "### Excersice 4: Repeat the training process, but now report the accuracy on the training and the validation set. "
      ]
    },
    {
      "cell_type": "code",
      "execution_count": 11,
      "metadata": {},
      "outputs": [],
      "source": [
        "# Let's repeat the training but using tensorboard to log the loss\n",
        "writer = SummaryWriter(\"torchlogs/experiment_ex4\")\n",
        "\n",
        "num_epochs = 10  # an epoch is a full pass through the dataset (each step is one batch, once we used all the batches we have completed an epoch)\n",
        "model = Net()  # init the netwokr\n",
        "criterion = nn.CrossEntropyLoss()  # define the loss function as the cross entropy loss\n",
        "optimizer = optim.SGD(model.parameters(), lr=0.01)  # define the optimizer (in this case stochastic gradient descent)\n",
        "\n",
        "for epoch in range(num_epochs):\n",
        "    model.train()  # set the model to training mode\n",
        "    for batch_idx, (images, labels) in enumerate(train_loader):\n",
        "        optimizer.zero_grad()  # zero the gradients\n",
        "        output = model(images)  # forward pass\n",
        "        loss = criterion(output, labels)  # compute the loss\n",
        "        loss.backward()  # backward pass\n",
        "        optimizer.step()  # update the weights\n",
        "\n",
        "        if batch_idx % 1000 == 0:\n",
        "            writer.add_scalar('training loss', loss.item(), epoch*len(train_loader)+batch_idx)\n",
        "            # ---------------------------------------------------------------\n",
        "            # Excercise 4: add two additional scalars to monitor the validation and training accuracy\n",
        "            #TODO\n",
        "            # ---------------------------------------------------------------\n"
      ]
    },
    {
      "cell_type": "markdown",
      "metadata": {},
      "source": [
        "### Excersice 5: Compare the performance if you use only 100, 500, 1000, 10000, and 50000 samples for training. Do any of this models overfit?\n",
        "### Excersice 6: Add dropout layers and L2 regularization to avoid overfitting and repeat the previous experiments. Comment on the observed results. "
      ]
    }
  ],
  "metadata": {
    "kernelspec": {
      "display_name": "Python 3",
      "language": "python",
      "name": "python3"
    },
    "language_info": {
      "codemirror_mode": {
        "name": "ipython",
        "version": 3
      },
      "file_extension": ".py",
      "mimetype": "text/x-python",
      "name": "python",
      "nbconvert_exporter": "python",
      "pygments_lexer": "ipython3",
      "version": "3.10.8"
    }
  },
  "nbformat": 4,
  "nbformat_minor": 0
}
